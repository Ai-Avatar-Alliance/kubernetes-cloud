{
 "cells": [
  {
   "cell_type": "markdown",
   "metadata": {
    "colab_type": "text",
    "id": "n8CwINQcEBKz"
   },
   "source": [
    "# Exporting ImageNet Inception\n",
    "\n",
    "In this notebook, we'll show how to export the [pre-trained Imagenet Inception model](https://tfhub.dev/google/imagenet/inception_v3/classification/3) for serving."
   ]
  },
  {
   "cell_type": "markdown",
   "metadata": {
    "colab_type": "text",
    "id": "3221z3P69fgf"
   },
   "source": [
    "First, we'll install the required packages:"
   ]
  },
  {
   "cell_type": "code",
   "execution_count": null,
   "metadata": {
    "colab": {},
    "colab_type": "code",
    "id": "_SdQpq7g9LiI"
   },
   "outputs": [],
   "source": [
    "!pip install tensorflow-hub==0.8.*"
   ]
  },
  {
   "cell_type": "markdown",
   "metadata": {},
   "source": [
    "Define the model output path. The shared volume for model storage is mounted at `/models`."
   ]
  },
  {
   "cell_type": "code",
   "execution_count": null,
   "metadata": {},
   "outputs": [],
   "source": [
    "export_dir = \"/models/inception\""
   ]
  },
  {
   "cell_type": "markdown",
   "metadata": {
    "colab_type": "text",
    "id": "I-k0gUpxDGkU"
   },
   "source": [
    "We'll download the model from TensorFlow Hub and export it for serving:"
   ]
  },
  {
   "cell_type": "code",
   "execution_count": null,
   "metadata": {
    "colab": {},
    "colab_type": "code",
    "id": "z6QLCzB4BKMe"
   },
   "outputs": [],
   "source": [
    "import time\n",
    "import tensorflow as tf\n",
    "import tensorflow_hub as hub\n",
    "from tensorflow.python.saved_model.signature_def_utils_impl import predict_signature_def\n",
    "\n",
    "# Inception v3 image input size\n",
    "HEIGHT=299\n",
    "WIDTH=299\n",
    "CHANNELS=3\n",
    "\n",
    "def prepare_image(image_str_tensor):\n",
    "    \"\"\"\n",
    "    This implements the standard preprocessing that needs to be applied to the\n",
    "    image tensors before passing them to the model. This is used for all input\n",
    "    types.\n",
    "    \"\"\"\n",
    "    image = tf.image.decode_jpeg(image_str_tensor, channels=CHANNELS)\n",
    "    image = tf.expand_dims(image, 0)\n",
    "    image = tf.compat.v1.image.resize_bilinear(image, [HEIGHT, WIDTH], align_corners=False)\n",
    "    image = tf.squeeze(image, axis=[0])\n",
    "    image = tf.cast(image, dtype=tf.uint8)\n",
    "    return image\n",
    "\n",
    "\n",
    "versioned_export_dir = export_dir + \"/\" + str(time.time()).split('.')[0]\n",
    "builder = tf.compat.v1.saved_model.builder.SavedModelBuilder(versioned_export_dir)\n",
    "\n",
    "with tf.compat.v1.Session(graph=tf.Graph()) as sess:\n",
    "    print (\"# Downloading\")\n",
    "    module = hub.Module(\"https://tfhub.dev/google/imagenet/inception_v3/classification/3\")\n",
    "\n",
    "    input_ph = tf.compat.v1.placeholder(tf.string, shape=[None])\n",
    "    \n",
    "    # https://github.com/tensorflow/tensorflow/issues/28007\n",
    "    with tf.device(\"/cpu:0\"):\n",
    "        images_tensor = tf.map_fn(prepare_image, input_ph, back_prop=False, dtype=tf.uint8)\n",
    "        \n",
    "    images_tensor = tf.image.convert_image_dtype(images_tensor, dtype=input_params[\"images\"].dtype)\n",
    "    \n",
    "    sess.run([tf.compat.v1.global_variables_initializer(), tf.compat.v1.tables_initializer()])\n",
    "\n",
    "    classes = module(images_tensor)\n",
    "    signature = predict_signature_def(inputs={\"image_bytes\": input_ph}, outputs={\"classes\": classes})\n",
    "\n",
    "    builder.add_meta_graph_and_variables(\n",
    "        sess, [\"serve\"], signature_def_map={\"serving_default\": signature}, strip_default_attrs=True\n",
    "    )\n",
    "\n",
    "print (\"# Exporting\")\n",
    "builder.save()\n"
   ]
  },
  {
   "cell_type": "markdown",
   "metadata": {
    "colab_type": "text",
    "id": "fTkjvSKBBmUB"
   },
   "source": [
    "Verify that the exported model now exists in the model volume"
   ]
  },
  {
   "cell_type": "code",
   "execution_count": null,
   "metadata": {
    "cellView": "form",
    "colab": {},
    "colab_type": "code",
    "id": "4xcDWxqCBPre"
   },
   "outputs": [],
   "source": [
    "! ls -lR /models/"
   ]
  },
  {
   "cell_type": "markdown",
   "metadata": {
    "colab_type": "text",
    "id": "pZQWoeZbE7Wc"
   },
   "source": [
    "That's it!\n",
    "\n",
    "*This notebook is derived from original work by [Cortex](https://www.cortex.dev)*"
   ]
  }
 ],
 "metadata": {
  "colab": {
   "collapsed_sections": [],
   "name": "inception.ipynb",
   "provenance": []
  },
  "kernelspec": {
   "display_name": "Python 3",
   "language": "python",
   "name": "python3"
  },
  "language_info": {
   "codemirror_mode": {
    "name": "ipython",
    "version": 3
   },
   "file_extension": ".py",
   "mimetype": "text/x-python",
   "name": "python",
   "nbconvert_exporter": "python",
   "pygments_lexer": "ipython3",
   "version": "3.6.9"
  }
 },
 "nbformat": 4,
 "nbformat_minor": 1
}
